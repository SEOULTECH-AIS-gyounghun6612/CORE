{
 "cells": [
  {
   "cell_type": "markdown",
   "metadata": {},
   "source": [
    "# Example - end-to-end deaplearning model"
   ]
  },
  {
   "cell_type": "markdown",
   "metadata": {},
   "source": [
    "----------\n",
    "## Process construct ##"
   ]
  },
  {
   "cell_type": "code",
   "execution_count": null,
   "metadata": {},
   "outputs": [],
   "source": [
    "from python_ex._base import directory, utils\n",
    "from torch_ex._torch_base import learing_mode, opt\n",
    "\n",
    "# directory\n",
    "Data_root = \"/home/ais-choi-01/DATA/Data/\"\n",
    "Result_root = directory._make_for_result(folder=\"../result_example/\", root_dir=directory._relative_root())\n"
   ]
  },
  {
   "cell_type": "markdown",
   "metadata": {},
   "source": [
    "### set learning option ###"
   ]
  },
  {
   "cell_type": "code",
   "execution_count": null,
   "metadata": {},
   "outputs": [],
   "source": [
    "\n",
    "# Learning_opt\n",
    "learning_opt = opt._learning.base(\n",
    "    # Infomation about train\n",
    "    Learning_date=utils.time_stemp(is_text=True),\n",
    "    Learning_detail=\"\",\n",
    "    Learning_mode=[learing_mode.VALIDATION],\n",
    "\n",
    "    # About Learning type and style\n",
    "    Max_epochs=30,\n",
    "    This_epoch=0,\n",
    "\n",
    "    # About logging\n",
    "    Logging_parameters={learing_mode.TRAIN: [\"loss\", \"IoU\"], learing_mode.VALIDATION: [\"loss\", \"IoU\"]},\n",
    "    Display_paramerters={learing_mode.TRAIN: [\"loss\", \"IoU\"], learing_mode.VALIDATION: [\"loss\", \"IoU\"]}\n",
    ")"
   ]
  },
  {
   "cell_type": "markdown",
   "metadata": {},
   "source": [
    "### set dataloader option ###"
   ]
  },
  {
   "cell_type": "code",
   "execution_count": null,
   "metadata": {},
   "outputs": [],
   "source": [
    "from python_ex._label import Label_process\n",
    "from torch_ex._torch_base import opt, Label_style, File_style\n",
    "\n",
    "\n",
    "dataloader_opt = opt._dataloader(\n",
    "    Batch_size=16,\n",
    "    Num_workers=8,\n",
    "    Data_process=Label_process.BDD_100k(import_style=[Label_style.SEM_SEG, ], data_size=[224, 224], root=Data_root),\n",
    "    Data_label_style=Label_style.SEM_SEG,\n",
    "    Data_file_style=File_style.IMAGE_FILE)"
   ]
  },
  {
   "cell_type": "markdown",
   "metadata": {},
   "source": [
    "### make process ###"
   ]
  },
  {
   "cell_type": "code",
   "execution_count": 2,
   "metadata": {},
   "outputs": [],
   "source": [
    "from torch_ex._trainer import Learning_process"
   ]
  },
  {
   "cell_type": "code",
   "execution_count": null,
   "metadata": {},
   "outputs": [],
   "source": [
    "class custom(Learning_process.End_to_End):\n",
    "    def data_jump_to_gpu(self, data_list):\n",
    "        return super().data_jump_to_gpu(data_list)\n",
    "\n",
    "    def fit(self, epoch: int = 0, mode: str = \"train\", is_display: bool = False, save_root: str = None):\n",
    "        return super().fit(epoch, mode, is_display, save_root)\n",
    "\n",
    "    def result_save(self, mode: str, epoch: int, save_root: str):\n",
    "        return super().result_save(mode, epoch, save_root)"
   ]
  },
  {
   "cell_type": "code",
   "execution_count": null,
   "metadata": {},
   "outputs": [],
   "source": [
    "process = custom(Result_root, learning_opt=learning_opt, dataloader_opt=dataloader_opt)"
   ]
  },
  {
   "cell_type": "markdown",
   "metadata": {},
   "source": [
    "----------"
   ]
  },
  {
   "cell_type": "markdown",
   "metadata": {},
   "source": [
    "-----------\n",
    "## Set model and optim ##"
   ]
  },
  {
   "cell_type": "markdown",
   "metadata": {},
   "source": [
    "### construct model and optim ###"
   ]
  },
  {
   "cell_type": "code",
   "execution_count": null,
   "metadata": {},
   "outputs": [],
   "source": [
    "from torch_ex._structure import opt as structure_opt\n",
    "from torch_ex._structure import backbone"
   ]
  },
  {
   "cell_type": "code",
   "execution_count": null,
   "metadata": {},
   "outputs": [],
   "source": [
    "_model = backbone.fcn(structure_opt.backbone(101))\n",
    "_optim = structure_opt.optim(\"Adam\")"
   ]
  },
  {
   "cell_type": "code",
   "execution_count": null,
   "metadata": {},
   "outputs": [],
   "source": [
    "process.set_model_n_optim(_model, _optim)"
   ]
  },
  {
   "cell_type": "markdown",
   "metadata": {},
   "source": [
    "-----------------------------------"
   ]
  },
  {
   "cell_type": "code",
   "execution_count": null,
   "metadata": {},
   "outputs": [],
   "source": []
  }
 ],
 "metadata": {
  "interpreter": {
   "hash": "660afe134a0974d6f2cec3e307e330759b7e4a1752a95bc238f7039fdf92ff35"
  },
  "kernelspec": {
   "display_name": "Python 3.8.12 ('pytorch_1_10')",
   "language": "python",
   "name": "python3"
  },
  "language_info": {
   "codemirror_mode": {
    "name": "ipython",
    "version": 3
   },
   "file_extension": ".py",
   "mimetype": "text/x-python",
   "name": "python",
   "nbconvert_exporter": "python",
   "pygments_lexer": "ipython3",
   "version": "3.8.12"
  },
  "orig_nbformat": 4
 },
 "nbformat": 4,
 "nbformat_minor": 2
}
