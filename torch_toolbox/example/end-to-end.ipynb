{
 "cells": [
  {
   "cell_type": "code",
   "execution_count": 2,
   "metadata": {},
   "outputs": [],
   "source": [
    "from python_ex._base import directory, utils\n",
    "from python_ex._label import Label_process\n",
    "\n",
    "from torch_ex._torch_base import learing_mode, opt, Label_style, File_style\n"
   ]
  },
  {
   "cell_type": "code",
   "execution_count": null,
   "metadata": {},
   "outputs": [],
   "source": [
    "# directory\n",
    "Data_root = \"/home/ais-choi-01/DATA/Data/\"\n",
    "Result_root = directory._make_for_result(folder=\"../result_example/\", root_dir=directory._relative_root())"
   ]
  },
  {
   "cell_type": "code",
   "execution_count": null,
   "metadata": {},
   "outputs": [],
   "source": [
    "# Learning_opt\n",
    "learning_opt = opt._learning.base(\n",
    "    # Infomation about train\n",
    "    Learning_date=utils.time_stemp(is_text=True),\n",
    "    Learning_detail=\"\",\n",
    "    Learning_mode=[learing_mode.TRAIN, learing_mode.VALIDATION],\n",
    "\n",
    "    # About Learning type and style\n",
    "    Max_epochs=30,\n",
    "    This_epoch=0,\n",
    "\n",
    "    # About logging\n",
    "    Logging_parameters={learing_mode.TRAIN: [\"loss\", \"acc_@1\", \"acc_@5\"], learing_mode.VALIDATION: [\"loss\", \"acc_@1\", \"acc_@5\"]},\n",
    "    Debugging_paramerters={learing_mode.TRAIN: [\"loss\", \"acc_@1\", \"acc_@5\"], learing_mode.VALIDATION: [\"loss\", \"acc_@1\", \"acc_@5\"]}\n",
    ")\n",
    "\n",
    "# Dataloader_opt\n",
    "dataloader_opt = opt._dataloader(\n",
    "    Batch_size=16,\n",
    "    Num_workers=8,\n",
    "    Data_process=Label_process.Imagenet_1k([Label_style.CLASSIFICATION, ], [224, 224], Data_root),\n",
    "    Data_label_style=Label_style.CLASSIFICATION,\n",
    "    Data_file_style=File_style.IMAGE_FILE)"
   ]
  },
  {
   "cell_type": "code",
   "execution_count": null,
   "metadata": {},
   "outputs": [],
   "source": []
  },
  {
   "cell_type": "code",
   "execution_count": null,
   "metadata": {},
   "outputs": [],
   "source": []
  },
  {
   "cell_type": "code",
   "execution_count": null,
   "metadata": {},
   "outputs": [],
   "source": [
    "# make custom model trainer\n",
    "from torch_ex._trainer import Learning_process"
   ]
  },
  {
   "cell_type": "code",
   "execution_count": null,
   "metadata": {},
   "outputs": [],
   "source": [
    "class custom_trainer(Learning_process.End_to_End):\n",
    "    def __init__(self, result_dir: str = None, log_file: str = None, is_resotre: bool = False, **opts):\n",
    "        super().__init__(result_dir, log_file, is_resotre, **opts)\n",
    "\n",
    "    def fit(self, epoch: int, mode: str = \"train\", is_display: bool = False, save_root: str = None):\n",
    "        return super().fit(epoch, mode, is_display, save_root)"
   ]
  },
  {
   "cell_type": "code",
   "execution_count": null,
   "metadata": {},
   "outputs": [],
   "source": [
    "learning_mode = custom_trainer(Result_root, learning_opt=learning_opt, dataloader_opt=dataloader_opt)"
   ]
  }
 ],
 "metadata": {
  "interpreter": {
   "hash": "660afe134a0974d6f2cec3e307e330759b7e4a1752a95bc238f7039fdf92ff35"
  },
  "kernelspec": {
   "display_name": "Python 3.8.12 ('pytorch_1_10')",
   "language": "python",
   "name": "python3"
  },
  "language_info": {
   "codemirror_mode": {
    "name": "ipython",
    "version": 3
   },
   "file_extension": ".py",
   "mimetype": "text/x-python",
   "name": "python",
   "nbconvert_exporter": "python",
   "pygments_lexer": "ipython3",
   "version": "3.8.12"
  },
  "orig_nbformat": 4
 },
 "nbformat": 4,
 "nbformat_minor": 2
}
