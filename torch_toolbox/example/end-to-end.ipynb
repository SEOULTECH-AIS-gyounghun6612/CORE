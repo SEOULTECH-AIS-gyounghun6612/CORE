{
 "cells": [
  {
   "cell_type": "code",
   "execution_count": 1,
   "metadata": {},
   "outputs": [
    {
     "ename": "ModuleNotFoundError",
     "evalue": "No module named 'torch_ex'",
     "output_type": "error",
     "traceback": [
      "\u001b[0;31m---------------------------------------------------------------------------\u001b[0m",
      "\u001b[0;31mModuleNotFoundError\u001b[0m                       Traceback (most recent call last)",
      "\u001b[1;32m/home/ais-choi-01/DATA/Project/Python/utils/torch_utils/example/end-to-end.ipynb Cell 1'\u001b[0m in \u001b[0;36m<cell line: 3>\u001b[0;34m()\u001b[0m\n\u001b[1;32m      <a href='vscode-notebook-cell:/home/ais-choi-01/DATA/Project/Python/utils/torch_utils/example/end-to-end.ipynb#ch0000000?line=0'>1</a>\u001b[0m \u001b[39mfrom\u001b[39;00m \u001b[39mpython_ex\u001b[39;00m\u001b[39m.\u001b[39;00m\u001b[39m_label\u001b[39;00m \u001b[39mimport\u001b[39;00m Label_process\n\u001b[0;32m----> <a href='vscode-notebook-cell:/home/ais-choi-01/DATA/Project/Python/utils/torch_utils/example/end-to-end.ipynb#ch0000000?line=2'>3</a>\u001b[0m \u001b[39mfrom\u001b[39;00m \u001b[39mtorch_ex\u001b[39;00m\u001b[39m.\u001b[39;00m\u001b[39m_torch_base\u001b[39;00m \u001b[39mimport\u001b[39;00m opt\n\u001b[1;32m      <a href='vscode-notebook-cell:/home/ais-choi-01/DATA/Project/Python/utils/torch_utils/example/end-to-end.ipynb#ch0000000?line=3'>4</a>\u001b[0m \u001b[39mfrom\u001b[39;00m \u001b[39mtorch_ex\u001b[39;00m\u001b[39m.\u001b[39;00m\u001b[39m_trainer\u001b[39;00m \u001b[39mimport\u001b[39;00m make_dataloader\n",
      "\u001b[0;31mModuleNotFoundError\u001b[0m: No module named 'torch_ex'"
     ]
    }
   ],
   "source": [
    "from python_ex._label import Label_process\n",
    "\n",
    "from torch_ex._torch_base import opt\n",
    "from torch_ex._trainer import make_dataloader"
   ]
  },
  {
   "cell_type": "code",
   "execution_count": null,
   "metadata": {},
   "outputs": [],
   "source": [
    "# parameter\n",
    "\n",
    "# Dataloader\n",
    "batch_size = 16\n",
    "num_worker = 8\n",
    "\n",
    "label_process = Label_process.Imagenet_1k\n",
    "\n",
    "data_size = [224, 224]"
   ]
  },
  {
   "cell_type": "code",
   "execution_count": null,
   "metadata": {},
   "outputs": [],
   "source": [
    "test_dataset_opt = opt._dataloader(\n",
    "    Batch_size=batch_size,\n",
    "    Num_workers=num_worker,\n",
    "    label.label_process.Imagenet_1k([_label.Label_style.CLASSIFICATION, ], [224, 224]),\n",
    "    _label.file_process.classification(\"/home/ais-choi-01/DATA/Data/\"))"
   ]
  }
 ],
 "metadata": {
  "interpreter": {
   "hash": "660afe134a0974d6f2cec3e307e330759b7e4a1752a95bc238f7039fdf92ff35"
  },
  "kernelspec": {
   "display_name": "Python 3.8.12 ('pytorch_1_10')",
   "language": "python",
   "name": "python3"
  },
  "language_info": {
   "codemirror_mode": {
    "name": "ipython",
    "version": 3
   },
   "file_extension": ".py",
   "mimetype": "text/x-python",
   "name": "python",
   "nbconvert_exporter": "python",
   "pygments_lexer": "ipython3",
   "version": "3.8.12"
  },
  "orig_nbformat": 4
 },
 "nbformat": 4,
 "nbformat_minor": 2
}
